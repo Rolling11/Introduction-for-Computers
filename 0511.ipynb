{
  "nbformat": 4,
  "nbformat_minor": 0,
  "metadata": {
    "colab": {
      "name": "0511.ipynb",
      "provenance": [],
      "authorship_tag": "ABX9TyOXwfifoLuWl5kfdV3mahH9",
      "include_colab_link": true
    },
    "kernelspec": {
      "name": "python3",
      "display_name": "Python 3"
    },
    "language_info": {
      "name": "python"
    }
  },
  "cells": [
    {
      "cell_type": "markdown",
      "metadata": {
        "id": "view-in-github",
        "colab_type": "text"
      },
      "source": [
        "<a href=\"https://colab.research.google.com/github/Rolling11/Introduction-for-Computers/blob/main/0511.ipynb\" target=\"_parent\"><img src=\"https://colab.research.google.com/assets/colab-badge.svg\" alt=\"Open In Colab\"/></a>"
      ]
    },
    {
      "cell_type": "code",
      "execution_count": 1,
      "metadata": {
        "colab": {
          "base_uri": "https://localhost:8080/"
        },
        "id": "HH44Rc8OCuml",
        "outputId": "bebaa551-8ade-4041-f719-c43e478180c5"
      },
      "outputs": [
        {
          "output_type": "stream",
          "name": "stdout",
          "text": [
            "請輸入你的體溫36\n",
            "體溫正常!\n"
          ]
        }
      ],
      "source": [
        "temp = float(input(\"請輸入你的體溫\"))\n",
        "if temp >= 37.5:\n",
        "  print(\"體溫過高!\")\n",
        "elif temp >=37 and temp < 37.4:\n",
        "  print(\"體溫略高!\") \n",
        "elif temp < 36.9 and temp >= 34:\n",
        "  print(\"體溫正常!\")\n",
        "else :\n",
        "  print(\"體溫異常，請重新量測!\")"
      ]
    },
    {
      "cell_type": "code",
      "source": [
        "money = int(input(\"請輸入購物金額:\"))\n",
        "if (money >= 10000):\n",
        "  if (money >= 100000):\n",
        "    print(\"八折\",money * 0.8,end= \"元\\n\")\n",
        "  elif (money >= 50000):\n",
        "    print(\"八五折\",money * 0.85,end= \"元\\n\")\n",
        "  elif (money >= 10000):\n",
        "    print(\"九五折\",money * 0.95,end= \"元\\n\")\n",
        "else:\n",
        "  print(\"沒打折\",money,end=\"元\\n\" )"
      ],
      "metadata": {
        "colab": {
          "base_uri": "https://localhost:8080/"
        },
        "id": "MqE9pEl-UNpF",
        "outputId": "937c77ec-918c-4b2b-8bdb-d8ac19320e7b"
      },
      "execution_count": 8,
      "outputs": [
        {
          "output_type": "stream",
          "name": "stdout",
          "text": [
            "請輸入購物金額:55000\n",
            "八五折 46750.0元\n"
          ]
        }
      ]
    },
    {
      "cell_type": "code",
      "source": [
        "month = int(input(\"請輸入月份:\"))\n",
        "if (month <= 12):\n",
        "  if (month >= 3 and month <= 5 ):\n",
        "    print(month,\"月是春天\")\n",
        "  elif (month >= 6 and month <= 8 ):\n",
        "    print(month,\"月是夏天\")\n",
        "  elif (month >= 9 and month <= 11 ):\n",
        "    print(month,\"月是秋天\")\n",
        "  elif (month >= 1 and month <= 2 and month >= 12): #此行怪怪的\n",
        "    print(month,\"月是冬天\")\n",
        "\n",
        "else:\n",
        "  print(\"月份不在範圍內\")"
      ],
      "metadata": {
        "colab": {
          "base_uri": "https://localhost:8080/"
        },
        "id": "ki1fTvfpXyby",
        "outputId": "af0ce583-50fa-4cc7-e08a-8afc6c8d74b7"
      },
      "execution_count": 22,
      "outputs": [
        {
          "output_type": "stream",
          "name": "stdout",
          "text": [
            "請輸入月份:6\n",
            "6 月是夏天\n"
          ]
        }
      ]
    },
    {
      "cell_type": "code",
      "source": [
        "income = int(input(\"請輸入今年入淨額:\"))\n",
        "if (income >= 300000):\n",
        "  if (income >= 20000000):\n",
        "    print(\"付稅金額:\",income * 0.3,end = \"元\\n\")\n",
        "  elif (income >= 10000000):\n",
        "    print(\"付稅金額:\",income * 0.21,end = \"元\\n\")\n",
        "  elif (income >= 600000):\n",
        "    print(\"付稅金額:\",income * 0.13,end = \"元\\n\")\n",
        "  elif (income >= 300000):\n",
        "    print(\"付稅金額:\",income * 0.06,end = \"元\\n\")\n",
        "else:\n",
        "  print(\"付稅金額:0\",end = \"元\\n\")\n",
        "\n"
      ],
      "metadata": {
        "colab": {
          "base_uri": "https://localhost:8080/"
        },
        "id": "iD9KJOkvaZ2H",
        "outputId": "38331805-f67a-4466-e58d-5996ef25b9f5"
      },
      "execution_count": 28,
      "outputs": [
        {
          "output_type": "stream",
          "name": "stdout",
          "text": [
            "請輸入今年入淨額:400000\n",
            "付稅金額: 24000.0元\n"
          ]
        }
      ]
    },
    {
      "cell_type": "code",
      "source": [
        "score = int(input(\"請輸入成績\"))\n",
        "if (score >= 60):\n",
        "  if (score >= 90):\n",
        "    print(\"A\")\n",
        "  elif (score >= 80 and score <= 89):\n",
        "    print(\"B\")\n",
        "  elif (score >= 70 and score <= 79):\n",
        "    print(\"C\")\n",
        "  elif (score >= 60 and score <= 69):\n",
        "    print(\"D\")\n",
        "\n",
        "else :\n",
        "  print(\"E\")"
      ],
      "metadata": {
        "colab": {
          "base_uri": "https://localhost:8080/"
        },
        "id": "ULrfYm6hcYKP",
        "outputId": "dc3015b0-850a-4e8a-eca9-2debcadaf50e"
      },
      "execution_count": 29,
      "outputs": [
        {
          "output_type": "stream",
          "name": "stdout",
          "text": [
            "請輸入成績78\n",
            "C\n"
          ]
        }
      ]
    }
  ]
}