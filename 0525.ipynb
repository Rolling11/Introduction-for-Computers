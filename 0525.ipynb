{
  "nbformat": 4,
  "nbformat_minor": 0,
  "metadata": {
    "colab": {
      "name": "0525.ipynb",
      "provenance": [],
      "authorship_tag": "ABX9TyOvjaDnkIYIXco/GtdQtGYf",
      "include_colab_link": true
    },
    "kernelspec": {
      "name": "python3",
      "display_name": "Python 3"
    },
    "language_info": {
      "name": "python"
    }
  },
  "cells": [
    {
      "cell_type": "markdown",
      "metadata": {
        "id": "view-in-github",
        "colab_type": "text"
      },
      "source": [
        "<a href=\"https://colab.research.google.com/github/Rolling11/Introduction-for-Computers/blob/main/0525.ipynb\" target=\"_parent\"><img src=\"https://colab.research.google.com/assets/colab-badge.svg\" alt=\"Open In Colab\"/></a>"
      ]
    },
    {
      "cell_type": "code",
      "execution_count": 1,
      "metadata": {
        "colab": {
          "base_uri": "https://localhost:8080/"
        },
        "id": "6f-RKHHmNdbS",
        "outputId": "a51698dd-5fc2-4da5-f232-2ef712b5557f"
      },
      "outputs": [
        {
          "output_type": "stream",
          "name": "stdout",
          "text": [
            "test\n"
          ]
        }
      ],
      "source": [
        "print(\"test\")"
      ]
    },
    {
      "cell_type": "code",
      "source": [
        "sum = 0\n",
        "test = int(input(\"請輸入一個正整數:\"))\n",
        "for n in range(1,test+1):\n",
        "  sum = sum+n\n",
        "print(\"1到\",test,\"的整數合為\",sum)"
      ],
      "metadata": {
        "colab": {
          "base_uri": "https://localhost:8080/"
        },
        "id": "MPqzCHE-R-Rd",
        "outputId": "f4058d97-319f-414c-82d8-34a5b14a09ad"
      },
      "execution_count": 4,
      "outputs": [
        {
          "output_type": "stream",
          "name": "stdout",
          "text": [
            "請輸入一個正整數:10\n",
            "1到 10 的整數合為 55\n"
          ]
        }
      ]
    },
    {
      "cell_type": "code",
      "source": [
        "sum = 0\n",
        "test = int(input(\"請輸入一個正整數:\"))\n",
        "for m in range(1,test+1):\n",
        "  sum = sum+m\n",
        "  print(\"1到\",m,\"的整數合為:\",sum) #讓print在回圈內"
      ],
      "metadata": {
        "colab": {
          "base_uri": "https://localhost:8080/"
        },
        "id": "4SbM4gGSSfha",
        "outputId": "a719cc63-37a7-401e-b4ef-36294034f860"
      },
      "execution_count": 92,
      "outputs": [
        {
          "output_type": "stream",
          "name": "stdout",
          "text": [
            "請輸入一個正整數:10\n",
            "1到 1 的整數合為: 1\n",
            "1到 2 的整數合為: 3\n",
            "1到 3 的整數合為: 6\n",
            "1到 4 的整數合為: 10\n",
            "1到 5 的整數合為: 15\n",
            "1到 6 的整數合為: 21\n",
            "1到 7 的整數合為: 28\n",
            "1到 8 的整數合為: 36\n",
            "1到 9 的整數合為: 45\n",
            "1到 10 的整數合為: 55\n"
          ]
        }
      ]
    },
    {
      "cell_type": "code",
      "source": [
        "for j in range(1,5):\n",
        "  print(j)\n",
        "  for i in range(1,3):\n",
        "    k = i*j\n",
        "    print(j,\"*\",i,\"=\",k)"
      ],
      "metadata": {
        "colab": {
          "base_uri": "https://localhost:8080/"
        },
        "id": "otgCEB0FTDzw",
        "outputId": "0747db45-7c42-4416-d0ac-7346993fdb7a"
      },
      "execution_count": 15,
      "outputs": [
        {
          "output_type": "stream",
          "name": "stdout",
          "text": [
            "1\n",
            "1 * 1 = 1\n",
            "1 * 2 = 2\n",
            "2\n",
            "2 * 1 = 2\n",
            "2 * 2 = 4\n",
            "3\n",
            "3 * 1 = 3\n",
            "3 * 2 = 6\n",
            "4\n",
            "4 * 1 = 4\n",
            "4 * 2 = 8\n"
          ]
        }
      ]
    },
    {
      "cell_type": "code",
      "source": [
        "for i in range(1,5):\n",
        "  if(i==4): #當程式跑到4就break\n",
        "    break\n",
        "  print(i,end = \" \")"
      ],
      "metadata": {
        "colab": {
          "base_uri": "https://localhost:8080/"
        },
        "id": "QI8IgTQuVo1o",
        "outputId": "4ea1818e-6d23-4437-e1ce-1fdeae8de22a"
      },
      "execution_count": 17,
      "outputs": [
        {
          "output_type": "stream",
          "name": "stdout",
          "text": [
            "1 2 3 "
          ]
        }
      ]
    },
    {
      "cell_type": "code",
      "source": [
        "for i in range(1,5):\n",
        "  if(i==3): #當程式跑到3就break\n",
        "    break\n",
        "  print(i,end = \" \")"
      ],
      "metadata": {
        "colab": {
          "base_uri": "https://localhost:8080/"
        },
        "id": "oUDUbMO_YVCc",
        "outputId": "6ea0880c-56bb-4275-8b67-3796eb93b8d1"
      },
      "execution_count": 18,
      "outputs": [
        {
          "output_type": "stream",
          "name": "stdout",
          "text": [
            "1 2 "
          ]
        }
      ]
    },
    {
      "cell_type": "code",
      "source": [
        "count = 0 #起始值為0\n",
        "for string in \"hello\" :\n",
        "  count += 1 #記數，每次都加一\n",
        "  if string == \"o\" :\n",
        "    break\n",
        "  print(string)\n",
        "print(\"迴圈結束\")\n",
        "print(\"迴圈執行了 %d 次\" %count)"
      ],
      "metadata": {
        "colab": {
          "base_uri": "https://localhost:8080/"
        },
        "id": "EzM34LZAZYq2",
        "outputId": "a19c82ce-1c59-4af9-f259-cb30f657ab5d"
      },
      "execution_count": 20,
      "outputs": [
        {
          "output_type": "stream",
          "name": "stdout",
          "text": [
            "h\n",
            "e\n",
            "l\n",
            "l\n",
            "迴圈結束\n",
            "迴圈執行了 5 次\n"
          ]
        }
      ]
    },
    {
      "cell_type": "code",
      "source": [
        "count = 0 \n",
        "for string in \"測試看看!\" :\n",
        "  count += 1\n",
        "  if string == \"看\" : \n",
        "    break\n",
        "  print(string)\n",
        "print(\"迴圈結束\")\n",
        "print(\"迴圈執行了 %d 次\" %count) # %d"
      ],
      "metadata": {
        "colab": {
          "base_uri": "https://localhost:8080/"
        },
        "id": "wuMBJPWNZ9Ti",
        "outputId": "6d97c2b0-831c-428a-f3e9-7714e03434a0"
      },
      "execution_count": 21,
      "outputs": [
        {
          "output_type": "stream",
          "name": "stdout",
          "text": [
            "測\n",
            "試\n",
            "迴圈結束\n",
            "迴圈執行了 3 次\n"
          ]
        }
      ]
    },
    {
      "cell_type": "code",
      "source": [
        "for j in range(2,10):  #第一題 結果要對齊\n",
        "  for i in range(1,10):\n",
        "    k = i*j\n",
        "    print(j,\"*\",i,\"=\",k,end = \"   \")\n",
        "  print(sep = \"\\n\")\n"
      ],
      "metadata": {
        "colab": {
          "base_uri": "https://localhost:8080/"
        },
        "id": "pX8TnUeNbyV3",
        "outputId": "a05f7fd0-7ece-4987-a697-51973e90f059"
      },
      "execution_count": 40,
      "outputs": [
        {
          "output_type": "stream",
          "name": "stdout",
          "text": [
            "2 * 1 = 2   2 * 2 = 4   2 * 3 = 6   2 * 4 = 8   2 * 5 = 10   2 * 6 = 12   2 * 7 = 14   2 * 8 = 16   2 * 9 = 18   \n",
            "3 * 1 = 3   3 * 2 = 6   3 * 3 = 9   3 * 4 = 12   3 * 5 = 15   3 * 6 = 18   3 * 7 = 21   3 * 8 = 24   3 * 9 = 27   \n",
            "4 * 1 = 4   4 * 2 = 8   4 * 3 = 12   4 * 4 = 16   4 * 5 = 20   4 * 6 = 24   4 * 7 = 28   4 * 8 = 32   4 * 9 = 36   \n",
            "5 * 1 = 5   5 * 2 = 10   5 * 3 = 15   5 * 4 = 20   5 * 5 = 25   5 * 6 = 30   5 * 7 = 35   5 * 8 = 40   5 * 9 = 45   \n",
            "6 * 1 = 6   6 * 2 = 12   6 * 3 = 18   6 * 4 = 24   6 * 5 = 30   6 * 6 = 36   6 * 7 = 42   6 * 8 = 48   6 * 9 = 54   \n",
            "7 * 1 = 7   7 * 2 = 14   7 * 3 = 21   7 * 4 = 28   7 * 5 = 35   7 * 6 = 42   7 * 7 = 49   7 * 8 = 56   7 * 9 = 63   \n",
            "8 * 1 = 8   8 * 2 = 16   8 * 3 = 24   8 * 4 = 32   8 * 5 = 40   8 * 6 = 48   8 * 7 = 56   8 * 8 = 64   8 * 9 = 72   \n",
            "9 * 1 = 9   9 * 2 = 18   9 * 3 = 27   9 * 4 = 36   9 * 5 = 45   9 * 6 = 54   9 * 7 = 63   9 * 8 = 72   9 * 9 = 81   \n"
          ]
        }
      ]
    },
    {
      "cell_type": "code",
      "source": [
        "a = int(input(\"請輸入a的值:\")) #第二題 求a.b最小公倍數\n",
        "b = int(input(\"請輸入b的值:\"))\n",
        "if (a > b):\n",
        "  max = a\n",
        "else:\n",
        "  max = b  \n",
        "while(True):\n",
        "  if (max % a == 0 and max % b == 0 ):\n",
        "    print(max)\n",
        "    break\n",
        "  max = max+1\n"
      ],
      "metadata": {
        "colab": {
          "base_uri": "https://localhost:8080/"
        },
        "id": "IgRp4EU3cb12",
        "outputId": "2226a2c6-35d9-48fa-c4ea-fe2656b08f0f"
      },
      "execution_count": 9,
      "outputs": [
        {
          "output_type": "stream",
          "name": "stdout",
          "text": [
            "請輸入a的值:3\n",
            "請輸入b的值:5\n",
            "15\n"
          ]
        }
      ]
    },
    {
      "cell_type": "code",
      "source": [
        "a = int(input(\"請輸入正整數:\"))  #第三題 排除5的倍數\n",
        "for a in range(1,a+1):\n",
        "  count = 0\n",
        "  count += 1\n",
        "  if a % 5 == 0 :\n",
        "    continue  \n",
        "  print(a,end = \" \")\n"
      ],
      "metadata": {
        "colab": {
          "base_uri": "https://localhost:8080/"
        },
        "id": "2E82WN5wgAmA",
        "outputId": "ae1133a2-68da-4dcc-9fab-2e25a8452d70"
      },
      "execution_count": 14,
      "outputs": [
        {
          "output_type": "stream",
          "name": "stdout",
          "text": [
            "請輸入正整數:15\n",
            "1 2 3 4 6 7 8 9 11 12 13 14 "
          ]
        }
      ]
    }
  ]
}