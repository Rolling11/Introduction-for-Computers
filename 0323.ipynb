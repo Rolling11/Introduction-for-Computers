{
  "nbformat": 4,
  "nbformat_minor": 0,
  "metadata": {
    "colab": {
      "name": "0323.ipynb",
      "provenance": [],
      "authorship_tag": "ABX9TyM/b5XIKPenw0Bv/IIgWZQm",
      "include_colab_link": true
    },
    "kernelspec": {
      "name": "python3",
      "display_name": "Python 3"
    },
    "language_info": {
      "name": "python"
    }
  },
  "cells": [
    {
      "cell_type": "markdown",
      "metadata": {
        "id": "view-in-github",
        "colab_type": "text"
      },
      "source": [
        "<a href=\"https://colab.research.google.com/github/Rolling11/Introduction-for-Computers/blob/main/0323.ipynb\" target=\"_parent\"><img src=\"https://colab.research.google.com/assets/colab-badge.svg\" alt=\"Open In Colab\"/></a>"
      ]
    },
    {
      "cell_type": "code",
      "execution_count": null,
      "metadata": {
        "colab": {
          "base_uri": "https://localhost:8080/"
        },
        "id": "zni5rD6AIZlx",
        "outputId": "46839674-549c-4ecc-b67e-8edba84291d5"
      },
      "outputs": [
        {
          "output_type": "execute_result",
          "data": {
            "text/plain": [
              "15"
            ]
          },
          "metadata": {},
          "execution_count": 1
        }
      ],
      "source": [
        "12+3"
      ]
    },
    {
      "cell_type": "code",
      "source": [
        "12-3"
      ],
      "metadata": {
        "colab": {
          "base_uri": "https://localhost:8080/"
        },
        "id": "0Em_L64mJZZG",
        "outputId": "ff922429-32bd-4c42-fa45-df699edf0350"
      },
      "execution_count": null,
      "outputs": [
        {
          "output_type": "execute_result",
          "data": {
            "text/plain": [
              "9"
            ]
          },
          "metadata": {},
          "execution_count": 3
        }
      ]
    },
    {
      "cell_type": "code",
      "source": [
        "12*3"
      ],
      "metadata": {
        "colab": {
          "base_uri": "https://localhost:8080/"
        },
        "id": "CKArX3A6JbpP",
        "outputId": "e0bf5976-9370-4c11-8dd4-96ad7be21132"
      },
      "execution_count": null,
      "outputs": [
        {
          "output_type": "execute_result",
          "data": {
            "text/plain": [
              "36"
            ]
          },
          "metadata": {},
          "execution_count": 4
        }
      ]
    },
    {
      "cell_type": "code",
      "source": [
        "12/3"
      ],
      "metadata": {
        "colab": {
          "base_uri": "https://localhost:8080/"
        },
        "id": "ew8e5AGtJhH1",
        "outputId": "e0380c36-2750-4cc0-ae90-3bbc966f56dd"
      },
      "execution_count": null,
      "outputs": [
        {
          "output_type": "execute_result",
          "data": {
            "text/plain": [
              "4.0"
            ]
          },
          "metadata": {},
          "execution_count": 5
        }
      ]
    },
    {
      "cell_type": "code",
      "source": [
        "32%5 #取得餘數"
      ],
      "metadata": {
        "colab": {
          "base_uri": "https://localhost:8080/"
        },
        "id": "pMCjS464JjkA",
        "outputId": "31e8890d-b473-4a19-8177-7468bb48776c"
      },
      "execution_count": null,
      "outputs": [
        {
          "output_type": "execute_result",
          "data": {
            "text/plain": [
              "2"
            ]
          },
          "metadata": {},
          "execution_count": 7
        }
      ]
    },
    {
      "cell_type": "code",
      "source": [
        "32//5 #取得整數的商數"
      ],
      "metadata": {
        "colab": {
          "base_uri": "https://localhost:8080/"
        },
        "id": "Fju90eHFJt0v",
        "outputId": "fdd8dd74-9e08-4bf0-fbf8-00d713fa05cb"
      },
      "execution_count": null,
      "outputs": [
        {
          "output_type": "execute_result",
          "data": {
            "text/plain": [
              "6"
            ]
          },
          "metadata": {},
          "execution_count": 8
        }
      ]
    },
    {
      "cell_type": "code",
      "source": [
        "7**2 #取得次方"
      ],
      "metadata": {
        "colab": {
          "base_uri": "https://localhost:8080/"
        },
        "id": "EQjW6aduJ4qN",
        "outputId": "8921f5c3-93ce-4479-9ccc-6f7f73e2d924"
      },
      "execution_count": null,
      "outputs": [
        {
          "output_type": "execute_result",
          "data": {
            "text/plain": [
              "49"
            ]
          },
          "metadata": {},
          "execution_count": 9
        }
      ]
    },
    {
      "cell_type": "code",
      "source": [
        "8+7"
      ],
      "metadata": {
        "colab": {
          "base_uri": "https://localhost:8080/"
        },
        "id": "hVUe9yuSKFBW",
        "outputId": "e419725b-0c46-4208-c9b9-2e8e613871d2"
      },
      "execution_count": null,
      "outputs": [
        {
          "output_type": "execute_result",
          "data": {
            "text/plain": [
              "15"
            ]
          },
          "metadata": {},
          "execution_count": 10
        }
      ]
    },
    {
      "cell_type": "code",
      "source": [
        "8-7"
      ],
      "metadata": {
        "colab": {
          "base_uri": "https://localhost:8080/"
        },
        "id": "M_qfBTFcKJH7",
        "outputId": "57ec282c-57fd-432f-9b01-c254eca17332"
      },
      "execution_count": null,
      "outputs": [
        {
          "output_type": "execute_result",
          "data": {
            "text/plain": [
              "1"
            ]
          },
          "metadata": {},
          "execution_count": 11
        }
      ]
    },
    {
      "cell_type": "code",
      "source": [
        "8*7"
      ],
      "metadata": {
        "colab": {
          "base_uri": "https://localhost:8080/"
        },
        "id": "-lgfkyrtKLHw",
        "outputId": "4b34e2c1-052b-42de-d689-71623bd2343c"
      },
      "execution_count": null,
      "outputs": [
        {
          "output_type": "execute_result",
          "data": {
            "text/plain": [
              "56"
            ]
          },
          "metadata": {},
          "execution_count": 12
        }
      ]
    },
    {
      "cell_type": "code",
      "source": [
        "8/7"
      ],
      "metadata": {
        "colab": {
          "base_uri": "https://localhost:8080/"
        },
        "id": "vLeQ_S_NKNtQ",
        "outputId": "9571b8ab-fe12-492c-e4ea-aee09c6ea30c"
      },
      "execution_count": null,
      "outputs": [
        {
          "output_type": "execute_result",
          "data": {
            "text/plain": [
              "1.1428571428571428"
            ]
          },
          "metadata": {},
          "execution_count": 13
        }
      ]
    },
    {
      "cell_type": "code",
      "source": [
        "8%7"
      ],
      "metadata": {
        "colab": {
          "base_uri": "https://localhost:8080/"
        },
        "id": "LywGhobvKQQL",
        "outputId": "b754dc6b-ed05-45a5-d3b6-529e1f421147"
      },
      "execution_count": null,
      "outputs": [
        {
          "output_type": "execute_result",
          "data": {
            "text/plain": [
              "1"
            ]
          },
          "metadata": {},
          "execution_count": 14
        }
      ]
    },
    {
      "cell_type": "code",
      "source": [
        "8//2"
      ],
      "metadata": {
        "colab": {
          "base_uri": "https://localhost:8080/"
        },
        "id": "WSUVRTFeKTf9",
        "outputId": "5432cfa6-8d76-423f-8cc0-da7adc1e8921"
      },
      "execution_count": null,
      "outputs": [
        {
          "output_type": "execute_result",
          "data": {
            "text/plain": [
              "4"
            ]
          },
          "metadata": {},
          "execution_count": 16
        }
      ]
    },
    {
      "cell_type": "code",
      "source": [
        "8**3"
      ],
      "metadata": {
        "id": "fGO88YArKYGg",
        "outputId": "bdf61929-a100-4c05-96cc-f3afdfb75da7",
        "colab": {
          "base_uri": "https://localhost:8080/"
        }
      },
      "execution_count": null,
      "outputs": [
        {
          "output_type": "execute_result",
          "data": {
            "text/plain": [
              "512"
            ]
          },
          "metadata": {},
          "execution_count": 17
        }
      ]
    },
    {
      "cell_type": "code",
      "source": [
        "上底 = int(input(\"請輸入梯形上底長度:\")) #int 宣告變數為數值\n",
        "下底 = int(input(\"請輸入梯形下底長度:\")) #input 輸入\n",
        "高 = int(input(\"請輸入梯形的高度:\"))\n",
        "面積 = (上底 + 下底) * 高 / 2\n",
        "print(\"上底長度為:\",上底,\"下底長度為:\",下底,\"高為:\",高,\"梯形面積為:\",面積) #\"字串\",變數,\"字串\",變數,\"字串\",變數,\"字串\",變數"
      ],
      "metadata": {
        "colab": {
          "base_uri": "https://localhost:8080/"
        },
        "id": "YvGKDKEPLScD",
        "outputId": "0b0e7d85-230d-402a-b86b-a0cb3b19bde3"
      },
      "execution_count": 39,
      "outputs": [
        {
          "output_type": "stream",
          "name": "stdout",
          "text": [
            "請輸入梯形上底長度:7\n",
            "請輸入梯形下底長度:9\n",
            "請輸入梯形的高度:8\n",
            "上底長度為: 7 下底長度為: 9 高為: 8 梯形面積為: 64.0\n"
          ]
        }
      ]
    },
    {
      "cell_type": "code",
      "source": [
        "print(\"上底長度為: %d,下底長度為: %d,高為: %d,梯形面積為: %d\" % (上底,下底,高,面積)) #\"字串\" %(數值) ,百分比前不用逗號 # %d 以10進位整數輸出"
      ],
      "metadata": {
        "colab": {
          "base_uri": "https://localhost:8080/"
        },
        "id": "Nv_DyMqhP8_6",
        "outputId": "5d32ee67-0d9b-4f82-932e-16fd9a09ad12"
      },
      "execution_count": 48,
      "outputs": [
        {
          "output_type": "stream",
          "name": "stdout",
          "text": [
            "上底長度為: 7,下底長度為: 9,高為: 8,梯形面積為: 64\n"
          ]
        }
      ]
    },
    {
      "cell_type": "code",
      "source": [
        "print(\"上底長度為: %d,下底長度為: %d,高為: %d,梯形面積為: %f\" % (上底,下底,高,面積)) # %f 將浮點數以整數輸出"
      ],
      "metadata": {
        "colab": {
          "base_uri": "https://localhost:8080/"
        },
        "id": "mkIc-pfUQ7Z2",
        "outputId": "d08775e1-7423-4e26-8918-c8ad3a99eb3a"
      },
      "execution_count": 50,
      "outputs": [
        {
          "output_type": "stream",
          "name": "stdout",
          "text": [
            "上底長度為: 7,下底長度為: 9,高為: 8,梯形面積為: 64.000000\n"
          ]
        }
      ]
    },
    {
      "cell_type": "code",
      "source": [
        "print(\"上底長度為: %d,下底長度為: %d,高為: %d,梯形面積為: %0.1f\" % (上底,下底,高,面積)) # %0.1f 0.1:使小數點位數為後一位"
      ],
      "metadata": {
        "colab": {
          "base_uri": "https://localhost:8080/"
        },
        "id": "xp30BDbTUBPw",
        "outputId": "d3543c9b-3549-42d2-b17a-0b5ed8d99307"
      },
      "execution_count": 51,
      "outputs": [
        {
          "output_type": "stream",
          "name": "stdout",
          "text": [
            "上底長度為: 7,下底長度為: 9,高為: 8,梯形面積為: 64.0\n"
          ]
        }
      ]
    },
    {
      "cell_type": "code",
      "source": [
        "a = 1.1\n",
        "b = 2.02\n",
        "c = 3.003\n",
        "print(\"a= %0.1f,b= %0.2f,c= %0.3f\" %(a,b,c))  # %0.2f 0.2:使小數點位數為後2位"
      ],
      "metadata": {
        "colab": {
          "base_uri": "https://localhost:8080/"
        },
        "id": "4TvXnvvbUjKL",
        "outputId": "9efe167a-7e55-4226-a529-dc482006e413"
      },
      "execution_count": 60,
      "outputs": [
        {
          "output_type": "stream",
          "name": "stdout",
          "text": [
            "a= 1.1,b= 2.02,c= 3.003\n"
          ]
        }
      ]
    },
    {
      "cell_type": "code",
      "source": [
        "身高 = int(input(\"請輸入您的身高(cm):\")) \n",
        "體重 = int(input(\"請輸入您的體重(kg):\"))\n",
        "BMI = 體重 / (身高/100)**2\n",
        "print(\"身高: %d 公分,體重: %d 公斤,BMI值為 %0.5f\" %(身高,體重,BMI))"
      ],
      "metadata": {
        "colab": {
          "base_uri": "https://localhost:8080/"
        },
        "id": "_UUeU3B2U977",
        "outputId": "f4a0cdac-37ed-43f3-f231-4ea21fa55740"
      },
      "execution_count": 86,
      "outputs": [
        {
          "output_type": "stream",
          "name": "stdout",
          "text": [
            "請輸入您的身高(cm):160\n",
            "請輸入您的體重(kg):54\n",
            "身高: 160 公分,體重: 54 公斤,BMI值為 21.09375\n"
          ]
        }
      ]
    },
    {
      "cell_type": "code",
      "source": [
        "height = float(input(\"請輸入您的身高(cm):\")) #用浮點數float比較好\n",
        "weight = float(input(\"請輸入您的體重(kg):\"))\n",
        "BMI = 體重 / (身高/100)**2\n",
        "print(\"身高: %0.1f 公分,體重: %0.1f 公斤,BMI值為 %0.5f\" %(height,weight,BMI))"
      ],
      "metadata": {
        "colab": {
          "base_uri": "https://localhost:8080/"
        },
        "id": "uLpyeoGebY4E",
        "outputId": "2fc025aa-c71e-48c6-f540-f5b41b6fabfe"
      },
      "execution_count": 83,
      "outputs": [
        {
          "output_type": "stream",
          "name": "stdout",
          "text": [
            "請輸入您的身高(cm):160\n",
            "請輸入您的體重(kg):54\n",
            "身高: 160.0 公分,體重: 54.0 公斤,BMI值為 21.09375\n"
          ]
        }
      ]
    },
    {
      "cell_type": "code",
      "source": [
        "6+9 == 2+13  # == 運算式1是否等於運算式2"
      ],
      "metadata": {
        "colab": {
          "base_uri": "https://localhost:8080/"
        },
        "id": "NnC0aZFbcesS",
        "outputId": "c2c9221d-e239-4792-d362-9aea259b37a7"
      },
      "execution_count": 87,
      "outputs": [
        {
          "output_type": "execute_result",
          "data": {
            "text/plain": [
              "True"
            ]
          },
          "metadata": {},
          "execution_count": 87
        }
      ]
    },
    {
      "cell_type": "code",
      "source": [
        "1 == 2"
      ],
      "metadata": {
        "colab": {
          "base_uri": "https://localhost:8080/"
        },
        "id": "bDrqDi0bco1q",
        "outputId": "f89908ae-360b-475e-f5ba-aa0e9eb0d2cd"
      },
      "execution_count": 89,
      "outputs": [
        {
          "output_type": "execute_result",
          "data": {
            "text/plain": [
              "False"
            ]
          },
          "metadata": {},
          "execution_count": 89
        }
      ]
    },
    {
      "cell_type": "code",
      "source": [
        "8+9 > 2+13 # 運算式1是否大於運算式2"
      ],
      "metadata": {
        "colab": {
          "base_uri": "https://localhost:8080/"
        },
        "id": "MXYi4V-0c7sL",
        "outputId": "7f52769b-22e1-4393-9793-3031ce8ff186"
      },
      "execution_count": 90,
      "outputs": [
        {
          "output_type": "execute_result",
          "data": {
            "text/plain": [
              "True"
            ]
          },
          "metadata": {},
          "execution_count": 90
        }
      ]
    },
    {
      "cell_type": "code",
      "source": [
        "2+13 >8+9"
      ],
      "metadata": {
        "colab": {
          "base_uri": "https://localhost:8080/"
        },
        "id": "_mNJ-UR4dNbz",
        "outputId": "4ea2e635-091f-4776-f008-67367750670d"
      },
      "execution_count": 91,
      "outputs": [
        {
          "output_type": "execute_result",
          "data": {
            "text/plain": [
              "False"
            ]
          },
          "metadata": {},
          "execution_count": 91
        }
      ]
    },
    {
      "cell_type": "code",
      "source": [
        "2+3 < 8+9 #運算式1是否小於運算式2"
      ],
      "metadata": {
        "colab": {
          "base_uri": "https://localhost:8080/"
        },
        "id": "h-QFuaF3dYkY",
        "outputId": "8ab3094c-7c7b-4ca7-e3e6-780c5731c974"
      },
      "execution_count": 94,
      "outputs": [
        {
          "output_type": "execute_result",
          "data": {
            "text/plain": [
              "True"
            ]
          },
          "metadata": {},
          "execution_count": 94
        }
      ]
    },
    {
      "cell_type": "code",
      "source": [
        "8+9 <2+3"
      ],
      "metadata": {
        "colab": {
          "base_uri": "https://localhost:8080/"
        },
        "id": "9k7R7jo4diTZ",
        "outputId": "3d5d437d-5644-4f6c-e4a8-b665aa9f4699"
      },
      "execution_count": 95,
      "outputs": [
        {
          "output_type": "execute_result",
          "data": {
            "text/plain": [
              "False"
            ]
          },
          "metadata": {},
          "execution_count": 95
        }
      ]
    },
    {
      "cell_type": "code",
      "source": [
        "8+9 >= 2+3 #運算式1是否大於等於於運算式2"
      ],
      "metadata": {
        "colab": {
          "base_uri": "https://localhost:8080/"
        },
        "id": "Pa8aL1N9dtmP",
        "outputId": "7d01c060-5ac4-4cb6-fddf-160bf7061b2d"
      },
      "execution_count": 98,
      "outputs": [
        {
          "output_type": "execute_result",
          "data": {
            "text/plain": [
              "True"
            ]
          },
          "metadata": {},
          "execution_count": 98
        }
      ]
    },
    {
      "cell_type": "code",
      "source": [
        "2+3 >= 8+9"
      ],
      "metadata": {
        "colab": {
          "base_uri": "https://localhost:8080/"
        },
        "id": "m3x-0b8ed6UL",
        "outputId": "bbfd22ea-cd2e-4ff9-9762-65e84688b131"
      },
      "execution_count": 99,
      "outputs": [
        {
          "output_type": "execute_result",
          "data": {
            "text/plain": [
              "False"
            ]
          },
          "metadata": {},
          "execution_count": 99
        }
      ]
    },
    {
      "cell_type": "code",
      "source": [
        "2+3 <= 8+9 #運算式1是否小於等於於運算式2"
      ],
      "metadata": {
        "colab": {
          "base_uri": "https://localhost:8080/"
        },
        "id": "fIkhN906eDoj",
        "outputId": "b5b3f1be-8a77-45d1-faf5-b5b1644065d6"
      },
      "execution_count": 100,
      "outputs": [
        {
          "output_type": "execute_result",
          "data": {
            "text/plain": [
              "True"
            ]
          },
          "metadata": {},
          "execution_count": 100
        }
      ]
    },
    {
      "cell_type": "code",
      "source": [
        "8+9 <= 2+3"
      ],
      "metadata": {
        "colab": {
          "base_uri": "https://localhost:8080/"
        },
        "id": "Tk4yxW0NeJDW",
        "outputId": "7895b3d1-a16c-4f0c-91ee-73406172f854"
      },
      "execution_count": 101,
      "outputs": [
        {
          "output_type": "execute_result",
          "data": {
            "text/plain": [
              "False"
            ]
          },
          "metadata": {},
          "execution_count": 101
        }
      ]
    },
    {
      "cell_type": "code",
      "source": [
        ""
      ],
      "metadata": {
        "id": "dzezr5mUeMQ8"
      },
      "execution_count": null,
      "outputs": []
    }
  ]
}